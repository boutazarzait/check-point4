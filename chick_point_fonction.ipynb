{
  "nbformat": 4,
  "nbformat_minor": 0,
  "metadata": {
    "colab": {
      "name": "chick point fonction.ipynb",
      "provenance": [],
      "collapsed_sections": []
    },
    "kernelspec": {
      "name": "python3",
      "display_name": "Python 3"
    },
    "language_info": {
      "name": "python"
    }
  },
  "cells": [
    {
      "cell_type": "code",
      "execution_count": null,
      "metadata": {
        "id": "OyP2PuDzswZR"
      },
      "outputs": [],
      "source": [
        "#Q1"
      ]
    },
    {
      "cell_type": "code",
      "source": [
        "def maximal(x,y,z):\n",
        "  if x>=y and x>=z:\n",
        "    return x\n",
        "  elif y>=x and y>=z:\n",
        "    return y\n",
        "  else:\n",
        "    return z\n",
        "maximal(20, 35, 19)\n"
      ],
      "metadata": {
        "colab": {
          "base_uri": "https://localhost:8080/"
        },
        "id": "OIIi-lDm9Dkn",
        "outputId": "43f9bd21-a874-4027-eaef-1c5df115924e"
      },
      "execution_count": 8,
      "outputs": [
        {
          "output_type": "execute_result",
          "data": {
            "text/plain": [
              "35"
            ]
          },
          "metadata": {},
          "execution_count": 8
        }
      ]
    },
    {
      "cell_type": "code",
      "source": [
        "#Q2"
      ],
      "metadata": {
        "id": "ibXlW9K9s0oY"
      },
      "execution_count": null,
      "outputs": []
    },
    {
      "cell_type": "code",
      "source": [
        "def sousadd(x,y):\n",
        "  return x-y,x+y\n",
        "sousadd(12,3) "
      ],
      "metadata": {
        "colab": {
          "base_uri": "https://localhost:8080/"
        },
        "id": "gVsP-94BBNgx",
        "outputId": "4bfc5da8-7a3f-482a-a129-324467035914"
      },
      "execution_count": 10,
      "outputs": [
        {
          "output_type": "execute_result",
          "data": {
            "text/plain": [
              "(9, 15)"
            ]
          },
          "metadata": {},
          "execution_count": 10
        }
      ]
    },
    {
      "cell_type": "code",
      "source": [
        "#Q3"
      ],
      "metadata": {
        "id": "FD7xA6w2s0z0"
      },
      "execution_count": null,
      "outputs": []
    },
    {
      "cell_type": "code",
      "source": [
        "def addition(l):\n",
        "  s=0\n",
        "  for i in range(len(l)):\n",
        "    s=s+l[i]\n",
        "  return s\n",
        "addition([1,2,3,4,5])"
      ],
      "metadata": {
        "colab": {
          "base_uri": "https://localhost:8080/"
        },
        "id": "Twz4z_2TCHZq",
        "outputId": "b6e03db3-e777-4bf4-f42b-fd1eed85003c"
      },
      "execution_count": 12,
      "outputs": [
        {
          "output_type": "execute_result",
          "data": {
            "text/plain": [
              "15"
            ]
          },
          "metadata": {},
          "execution_count": 12
        }
      ]
    },
    {
      "cell_type": "code",
      "source": [
        "def multiplication(l):\n",
        "  m=1\n",
        "  for i in range(len(l)):\n",
        "    m=m*l[i]\n",
        "  return m\n",
        "multiplication([1,2,3,4,5])"
      ],
      "metadata": {
        "colab": {
          "base_uri": "https://localhost:8080/"
        },
        "id": "MrR_em0JEUXt",
        "outputId": "9cb0b027-12e9-4c88-e771-8c378aa8898b"
      },
      "execution_count": 14,
      "outputs": [
        {
          "output_type": "execute_result",
          "data": {
            "text/plain": [
              "120"
            ]
          },
          "metadata": {},
          "execution_count": 14
        }
      ]
    },
    {
      "cell_type": "code",
      "source": [
        "def position(l):\n",
        "  P=[]\n",
        "  I=[]\n",
        "  for i in range(len(l)):\n",
        "    if i%2==0:\n",
        "      P.append(l[i])\n",
        "    else:\n",
        "      I.append(l[i])\n",
        "  return addition(P),multiplication(I)\n",
        "\n",
        "position([1,2,3,4,5])"
      ],
      "metadata": {
        "colab": {
          "base_uri": "https://localhost:8080/"
        },
        "id": "zY-suCXsE45V",
        "outputId": "2dc4cb5d-5845-4bf9-ee86-1bd50a4e8e4f"
      },
      "execution_count": 15,
      "outputs": [
        {
          "output_type": "execute_result",
          "data": {
            "text/plain": [
              "(9, 8)"
            ]
          },
          "metadata": {},
          "execution_count": 15
        }
      ]
    },
    {
      "cell_type": "code",
      "source": [
        "#Q4"
      ],
      "metadata": {
        "id": "V6aI5_7YLu64"
      },
      "execution_count": null,
      "outputs": []
    },
    {
      "cell_type": "code",
      "source": [
        "def words():\n",
        "  ch= input(\"saiser une phrase: \" ) .split ('-')\n",
        "  ch.sort()\n",
        "  return '-'.join(ch)\n",
        "print(words())\n"
      ],
      "metadata": {
        "colab": {
          "base_uri": "https://localhost:8080/"
        },
        "id": "D3BWY9O8Lx3h",
        "outputId": "a3edacb4-a325-44b3-92d3-2d1ede11b1cb"
      },
      "execution_count": 16,
      "outputs": [
        {
          "output_type": "stream",
          "name": "stdout",
          "text": [
            "saiser une phrase: green-red-yellow-black-white\n",
            "black-green-red-white-yellow\n"
          ]
        }
      ]
    },
    {
      "cell_type": "code",
      "source": [
        "#Q5"
      ],
      "metadata": {
        "id": "2YdNXO6SPeYA"
      },
      "execution_count": null,
      "outputs": []
    },
    {
      "cell_type": "code",
      "source": [
        ""
      ],
      "metadata": {
        "id": "dXBJiCPFPk8B"
      },
      "execution_count": null,
      "outputs": []
    }
  ]
}